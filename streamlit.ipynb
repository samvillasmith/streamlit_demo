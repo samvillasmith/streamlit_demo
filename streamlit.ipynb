{
 "cells": [
  {
   "cell_type": "markdown",
   "id": "cf81c278",
   "metadata": {},
   "source": [
    "## Streamlit is an open-source app framework for Machine Learning and Data Science projects.\n",
    "Streamlit is designed to make it easy to create and share beautiful web apps for machine learning and data science projects. It allows you to turn data scripts into shareable web apps in minutes, without requiring any front-end experience."
   ]
  },
  {
   "cell_type": "markdown",
   "id": "d704d715",
   "metadata": {},
   "source": []
  }
 ],
 "metadata": {
  "language_info": {
   "name": "python"
  }
 },
 "nbformat": 4,
 "nbformat_minor": 5
}
